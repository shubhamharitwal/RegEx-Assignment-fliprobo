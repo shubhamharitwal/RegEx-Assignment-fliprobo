{
 "cells": [
  {
   "cell_type": "code",
   "execution_count": 2,
   "id": "2a3e91ba",
   "metadata": {},
   "outputs": [],
   "source": [
    "#Assignment for regex"
   ]
  },
  {
   "cell_type": "code",
   "execution_count": 7,
   "id": "65e75c36",
   "metadata": {},
   "outputs": [
    {
     "name": "stdout",
     "output_type": "stream",
     "text": [
      "Python:Excercises::PHP:excercises:\n"
     ]
    }
   ],
   "source": [
    "#Write python program to replace all occurrances of space ,comma, dot, with a colon\n",
    "\n",
    "import re\n",
    "y= ' ,.'\n",
    "text = 'Python Excercises, PHP excercises.'\n",
    "new_text = re.sub(r'[ ,.]' , ':', text)\n",
    "print(new_text)"
   ]
  },
  {
   "cell_type": "code",
   "execution_count": 53,
   "id": "a6afd7bc",
   "metadata": {},
   "outputs": [
    {
     "name": "stdout",
     "output_type": "stream",
     "text": [
      "         SUMMARY\n",
      "0    hello world\n",
      "1     XXXXX test\n",
      "2  four five six\n"
     ]
    }
   ],
   "source": [
    "#create a dataframe using the dictionary below and remove everything comma,!,xxxx,etc  from the columns except words\n",
    "\n",
    "import pandas as pd\n",
    "import re\n",
    "\n",
    "# Dictionary\n",
    "data = {'SUMMARY': ['hello, world!', 'XXXXX test', '123four, five:; six...']}\n",
    "\n",
    "# Create DataFrame\n",
    "df = pd.DataFrame(data)\n",
    "\n",
    "# Define a function to clean the text\n",
    "def clean_text(text):\n",
    "    # Remove commas, !, XXXX, ;, digits, and other non-word characters\n",
    "    cleaned_text = re.sub(r'[^A-Za-z\\s]', '', text)\n",
    "    # Remove multiple spaces and leading/trailing spaces\n",
    "    cleaned_text = re.sub(r'\\s+', ' ', cleaned_text).strip()\n",
    "    return cleaned_text\n",
    "\n",
    "# Apply the cleaning function to the 'SUMMARY' column\n",
    "df['SUMMARY'] = df['SUMMARY'].apply(clean_text)\n",
    "\n",
    "# Print the DataFrame\n",
    "print(df)\n",
    "\n"
   ]
  },
  {
   "cell_type": "code",
   "execution_count": 23,
   "id": "3fd167f3",
   "metadata": {},
   "outputs": [
    {
     "name": "stdout",
     "output_type": "stream",
     "text": [
      "Match object : ['coun', 'Indi', 'cons', 'stat', 'unio', 'terr', 'itor', 'have', 'vast', 'dive', 'rsit']\n"
     ]
    }
   ],
   "source": [
    "# Create a function in python to find all words that are at least 4 characters long in a string\n",
    "#The use of the re.compile() method is mandatory \n",
    "\n",
    "target_string= \"the country India consist of 28 states and 8 union territories and have vast diversity.\"\n",
    "result = re.findall(r\"\\w{4}\",target_string)\n",
    "print(\"Match object :\", result)\n"
   ]
  },
  {
   "cell_type": "code",
   "execution_count": 30,
   "id": "d9ac0956",
   "metadata": {},
   "outputs": [
    {
     "name": "stdout",
     "output_type": "stream",
     "text": [
      "Match object : ['union', 'publi', 'servi', 'commi', 'ssion', 'condu', 'cted', 'the', 'exam', 'for', 'civil', 'servi', 'ces']\n"
     ]
    }
   ],
   "source": [
    "#- Create a function in python to find all three, four, and five character words in a string. \n",
    "#The use of the re.compile() method is mandatory.\n",
    "\n",
    "target_string = \"union public service commission conducted the exam for civil services.\"\n",
    "result = re.findall(r\"\\w{3,5}\",target_string)\n",
    "print(\"Match object :\" ,result )\n",
    "\n"
   ]
  },
  {
   "cell_type": "code",
   "execution_count": 52,
   "id": "2ac643dd",
   "metadata": {},
   "outputs": [
    {
     "name": "stdout",
     "output_type": "stream",
     "text": [
      "example \n",
      "hr@fliprobo \n",
      "github \n",
      "Hello \n",
      "Data \n"
     ]
    }
   ],
   "source": [
    "# Create a function in Python to remove the parenthesis in a list of strings. The use of the \n",
    "#re.compile() method is mandatory\n",
    "\n",
    "import re\n",
    "\n",
    "def remove_parenthesis(strings):\n",
    "    # Create a compiled regular expression pattern\n",
    "    pattern = re.compile(r'\\([^)]*\\)')\n",
    "\n",
    "    # Apply the pattern to remove parentheses in each string\n",
    "    result = [pattern.sub('', string) for string in strings]\n",
    "    return result\n",
    "\n",
    "# Sample Text\n",
    "sample_text = [\"example (.com)\", \"hr@fliprobo (.com)\", \"github (.com)\", \"Hello (Data Science World)\", \"Data (Scientist)\"]\n",
    "\n",
    "# Get the expected output\n",
    "output = remove_parenthesis(sample_text)\n",
    "\n",
    "# Print the result\n",
    "for item in output:\n",
    "    print(item)\n",
    "\n"
   ]
  },
  {
   "cell_type": "code",
   "execution_count": 51,
   "id": "b42b3799",
   "metadata": {},
   "outputs": [
    {
     "name": "stdout",
     "output_type": "stream",
     "text": [
      "['Importance', 'Of', 'Regular', 'Expressions', 'In', 'Python']\n"
     ]
    }
   ],
   "source": [
    "#- Write a regular expression in Python to split a string into uppercase letters.\n",
    "\n",
    "import re\n",
    "\n",
    "def split_uppercase(text):\n",
    "    # Use regex to find uppercase letters\n",
    "    result = re.findall('[A-Z][^A-Z]*', text)\n",
    "    return result\n",
    "\n",
    "# Text\n",
    "text = \"ImportanceOfRegularExpressionsInPython\"\n",
    "\n",
    "# Get the expected output\n",
    "output = split_uppercase(text)\n",
    "\n",
    "# Print the result\n",
    "print(output)\n"
   ]
  },
  {
   "cell_type": "code",
   "execution_count": 50,
   "id": "70b8eb62",
   "metadata": {},
   "outputs": [
    {
     "name": "stdout",
     "output_type": "stream",
     "text": [
      "RegularExpression1 IsAn2 ImportantTopic3 InPython\n"
     ]
    }
   ],
   "source": [
    "# Create a function in python to insert spaces between words starting with numbers.\n",
    "\n",
    "\n",
    "def insert_spaces(text):\n",
    "    # Use regex to find words starting with numbers\n",
    "    result = re.sub(r'(?<=[0-9])(?=[A-Za-z])', ' ', text)\n",
    "    return result\n",
    "\n",
    "# Text\n",
    "text = \"RegularExpression1IsAn2ImportantTopic3InPython\"\n",
    "\n",
    "# Get the expected output\n",
    "output = insert_spaces(text)\n",
    "\n",
    "# Print the result\n",
    "print(output)\n"
   ]
  },
  {
   "cell_type": "code",
   "execution_count": 54,
   "id": "530ef85b",
   "metadata": {},
   "outputs": [
    {
     "name": "stdout",
     "output_type": "stream",
     "text": [
      "RegularExpression1 IsAn2 ImportantTopic3 InPython\n"
     ]
    }
   ],
   "source": [
    "#- Create a function in python to insert spaces between words starting with capital letters or with numbers\n",
    "\n",
    "def insert_spaces(text):\n",
    "    # Use regex to find words starting with capital letters or numbers\n",
    "    result = re.sub(r'(?<=[A-Z0-9])(?=[A-Z])', ' ', text)\n",
    "    return result\n",
    "\n",
    "# Sample Text\n",
    "sample_text = \"RegularExpression1IsAn2ImportantTopic3InPython\"\n",
    "\n",
    "# Get the expected output\n",
    "output = insert_spaces(sample_text)\n",
    "\n",
    "# Print the result\n",
    "print(output)\n"
   ]
  },
  {
   "cell_type": "code",
   "execution_count": 55,
   "id": "23399310",
   "metadata": {},
   "outputs": [
    {
     "name": "stdout",
     "output_type": "stream",
     "text": [
      "       Country          Region  Happiness Rank  Happiness Score  \\\n",
      "0  Switzerland  Western Europe               1            7.587   \n",
      "1      Iceland  Western Europe               2            7.561   \n",
      "2      Denmark  Western Europe               3            7.527   \n",
      "3       Norway  Western Europe               4            7.522   \n",
      "4       Canada   North America               5            7.427   \n",
      "\n",
      "   Standard Error  Economy (GDP per Capita)   Family  \\\n",
      "0         0.03411                   1.39651  1.34951   \n",
      "1         0.04884                   1.30232  1.40223   \n",
      "2         0.03328                   1.32548  1.36058   \n",
      "3         0.03880                   1.45900  1.33095   \n",
      "4         0.03553                   1.32629  1.32261   \n",
      "\n",
      "   Health (Life Expectancy)  Freedom  Trust (Government Corruption)  \\\n",
      "0                   0.94143  0.66557                        0.41978   \n",
      "1                   0.94784  0.62877                        0.14145   \n",
      "2                   0.87464  0.64938                        0.48357   \n",
      "3                   0.88521  0.66973                        0.36503   \n",
      "4                   0.90563  0.63297                        0.32957   \n",
      "\n",
      "   Generosity  Dystopia Residual first_five_letters  \n",
      "0     0.29678            2.51738             Switze  \n",
      "1     0.43630            2.70201             Icelan  \n",
      "2     0.34139            2.49204             Denmar  \n",
      "3     0.34699            2.46531             Norway  \n",
      "4     0.45811            2.45176             Canada  \n"
     ]
    }
   ],
   "source": [
    "# Use the github link below to read the data and create a dataframe. After creating the \n",
    "#dataframe extract the first 6 letters of each country and store in the dataframe under a new column \n",
    "#called first_five_letters\n",
    "\n",
    "import pandas as pd\n",
    "\n",
    "# GitHub link to the CSV file\n",
    "url = \"https://raw.githubusercontent.com/dsrscientist/DSData/master/happiness_score_dataset.csv\"\n",
    "\n",
    "# Read the data into a DataFrame\n",
    "df = pd.read_csv(url)\n",
    "\n",
    "# Extract the first 6 letters of each country and create a new column\n",
    "df['first_five_letters'] = df['Country'].str[:6]\n",
    "\n",
    "# Display the DataFrame with the new column\n",
    "print(df.head())\n"
   ]
  },
  {
   "cell_type": "code",
   "execution_count": 58,
   "id": "27f00ea6",
   "metadata": {},
   "outputs": [
    {
     "name": "stdout",
     "output_type": "stream",
     "text": [
      "Data_science123: True\n",
      "Another_Valid_String: True\n",
      "Invalid!Code: False\n",
      "Spaces Are Invalid: False\n"
     ]
    }
   ],
   "source": [
    "# Write a Python program to match a string that contains only upper and lowercase letters, numbers, and underscores.\n",
    "\n",
    "def is_valid_string(input_string):\n",
    "    pattern = re.compile(r'^[a-zA-Z0-9_]+$')\n",
    "    return bool(pattern.match(input_string))\n",
    "\n",
    "\n",
    "test_strings = [\"Data_science123\", \"Another_Valid_String\", \"Invalid!Code\", \"Spaces Are Invalid\"]\n",
    "\n",
    "for test_string in test_strings:\n",
    "    result = is_valid_string(test_string)\n",
    "    print(f'{test_string}: {result}')\n"
   ]
  },
  {
   "cell_type": "code",
   "execution_count": 59,
   "id": "d3ca0313",
   "metadata": {},
   "outputs": [
    {
     "name": "stdout",
     "output_type": "stream",
     "text": [
      "123ABC: True\n",
      "456xyz: False\n",
      "789StartsWithNumber: False\n",
      "Hello123: False\n"
     ]
    }
   ],
   "source": [
    "#Write a Python program where a string will start with a specific number\n",
    "\n",
    "def starts_with_number(input_string, target_number):\n",
    "    return input_string.startswith(str(target_number))\n",
    "\n",
    "# Test cases\n",
    "test_strings = [\"123ABC\", \"456xyz\", \"789StartsWithNumber\", \"Hello123\"]\n",
    "\n",
    "target_number = 123\n",
    "\n",
    "for test_string in test_strings:\n",
    "    result = starts_with_number(test_string, target_number)\n",
    "    print(f'{test_string}: {result}')\n"
   ]
  },
  {
   "cell_type": "code",
   "execution_count": 60,
   "id": "57145e4c",
   "metadata": {},
   "outputs": [
    {
     "name": "stdout",
     "output_type": "stream",
     "text": [
      "192.168.001.001: Invalid IPv4 Address\n",
      "10.000.0.1: Invalid IPv4 Address\n",
      "172.16.01.01: Invalid IPv4 Address\n",
      "255.255.255.255: 255.255.255.255\n",
      "invalid_ip: Invalid IPv4 Address\n"
     ]
    }
   ],
   "source": [
    "#Write a Python program to remove leading zeros from an IP address\n",
    "\n",
    "import ipaddress\n",
    "\n",
    "def remove_leading_zeros(ip_address_str):\n",
    "    try:\n",
    "        ip_address = ipaddress.IPv4Address(ip_address_str)\n",
    "        return str(ip_address)\n",
    "    except ipaddress.AddressValueError:\n",
    "        # Handle the case where the input is not a valid IPv4 address\n",
    "        return \"Invalid IPv4 Address\"\n",
    "\n",
    "# Test cases\n",
    "ip_addresses = [\"192.168.001.001\", \"10.000.0.1\", \"172.16.01.01\", \"255.255.255.255\", \"invalid_ip\"]\n",
    "\n",
    "for ip_address in ip_addresses:\n",
    "    result = remove_leading_zeros(ip_address)\n",
    "    print(f'{ip_address}: {result}')\n"
   ]
  },
  {
   "cell_type": "code",
   "execution_count": 61,
   "id": "e094a901",
   "metadata": {},
   "outputs": [
    {
     "name": "stdout",
     "output_type": "stream",
     "text": [
      "August 15th 1947\n"
     ]
    }
   ],
   "source": [
    "#- Write a regular expression in python to match a date string in the form of Month name \n",
    "#followed by day number and year stored in a text file.\n",
    "\n",
    "import re\n",
    "\n",
    "# Sample text\n",
    "sample_text = \"On August 15th 1947 that India was declared independent from British colonialism, and the reins of control were handed over to the leaders of the Country.\"\n",
    "\n",
    "# Regular expression pattern\n",
    "date_pattern = re.compile(r'\\b(?:January|February|March|April|May|June|July|August|September|October|November|December)\\s\\d{1,2}(?:st|nd|rd|th)?\\s\\d{4}\\b')\n",
    "\n",
    "# Find matches in the text\n",
    "matches = date_pattern.findall(sample_text)\n",
    "\n",
    "# Print the result\n",
    "if matches:\n",
    "    print(\" \".join(matches))\n",
    "else:\n",
    "    print(\"No date match found.\")\n",
    "\n"
   ]
  },
  {
   "cell_type": "code",
   "execution_count": 62,
   "id": "89d2f40a",
   "metadata": {},
   "outputs": [
    {
     "name": "stdout",
     "output_type": "stream",
     "text": [
      "fox: Found\n",
      "dog: Found\n",
      "horse: Not found\n"
     ]
    }
   ],
   "source": [
    "#- Write a Python program to search some literals strings in a string. \n",
    "\n",
    "def search_literals(text, searched_words):\n",
    "    results = {word: word in text for word in searched_words}\n",
    "    return results\n",
    "\n",
    "# Sample text\n",
    "sample_text = 'The quick brown fox jumps over the lazy dog.'\n",
    "\n",
    "# Words to search\n",
    "searched_words = ['fox', 'dog', 'horse']\n",
    "\n",
    "# Search for the specified words\n",
    "search_results = search_literals(sample_text, searched_words)\n",
    "\n",
    "# Print the results\n",
    "for word, found in search_results.items():\n",
    "    print(f'{word}: {\"Found\" if found else \"Not found\"}')\n"
   ]
  },
  {
   "cell_type": "code",
   "execution_count": 63,
   "id": "544b3efb",
   "metadata": {},
   "outputs": [
    {
     "name": "stdout",
     "output_type": "stream",
     "text": [
      "The word \"fox\" is found at position 16.\n"
     ]
    }
   ],
   "source": [
    "# Write a Python program to search a literals string in a string and also find the location \n",
    "#within the original string where the pattern occurs\n",
    "\n",
    "def search_literal_with_location(text, searched_word):\n",
    "    found_location = text.find(searched_word)\n",
    "    return found_location\n",
    "\n",
    "# Sample text\n",
    "sample_text = 'The quick brown fox jumps over the lazy dog.'\n",
    "\n",
    "# Word to search\n",
    "searched_word = 'fox'\n",
    "\n",
    "# Search for the specified word and find its location\n",
    "location = search_literal_with_location(sample_text, searched_word)\n",
    "\n",
    "# Print the result\n",
    "if location != -1:\n",
    "    print(f'The word \"{searched_word}\" is found at position {location}.')\n",
    "else:\n",
    "    print(f'The word \"{searched_word}\" is not found in the text.')\n",
    "\n"
   ]
  },
  {
   "cell_type": "code",
   "execution_count": 64,
   "id": "a3982dfd",
   "metadata": {},
   "outputs": [
    {
     "name": "stdout",
     "output_type": "stream",
     "text": [
      "The pattern \"exercises\" is found at positions: [7, 22, 36]\n"
     ]
    }
   ],
   "source": [
    "#Write a Python program to find the substrings within a string.\n",
    "\n",
    "import re\n",
    "\n",
    "def find_occurrences_and_positions_regex(text, pattern):\n",
    "    matches = re.finditer(pattern, text)\n",
    "    \n",
    "    occurrences = 0\n",
    "    positions = []\n",
    "\n",
    "    for match in matches:\n",
    "        occurrences += 1\n",
    "        positions.append(match.start())\n",
    "\n",
    "    return occurrences, positions\n",
    "\n",
    "# Sample text\n",
    "sample_text = 'Python exercises, PHP exercises, C# exercises and Python exercises'\n",
    "\n",
    "# Pattern to search for\n",
    "pattern = 'exercises'\n",
    "\n",
    "# Find occurrences and positions of the pattern using regex\n",
    "occurrences, positions = find_occurrences_and_positions_regex(sample_text, pattern)\n",
    "\n",
    "# Print the result\n",
    "if occurrences:\n",
    "    print(f'The pattern \"{pattern}\" occurs {occurrences} times at positions: {positions}')\n",
    "else:\n",
    "    print(f'The pattern \"{pattern}\" is not found in the text.')\n",
    "\n",
    "       \n"
   ]
  },
  {
   "cell_type": "code",
   "execution_count": 71,
   "id": "26a14e77",
   "metadata": {},
   "outputs": [
    {
     "name": "stdout",
     "output_type": "stream",
     "text": [
      "The pattern \"exercises\" occurs 4 times at positions: [7, 22, 36, 57]\n"
     ]
    }
   ],
   "source": [
    "# Write a Python program to find the occurrence and position of the substrings within a string.\n",
    "\n",
    "import re\n",
    "\n",
    "def find_occurrences_and_positions_regex(text, pattern):\n",
    "    matches = re.finditer(pattern, text)\n",
    "    \n",
    "    occurrences = 0\n",
    "    positions = []\n",
    "\n",
    "    for match in matches:\n",
    "        occurrences += 1\n",
    "        positions.append(match.start())\n",
    "\n",
    "    return occurrences, positions\n",
    "\n",
    "# Sample text\n",
    "sample_text = 'Python exercises, PHP exercises, C# exercises and Python exercises'\n",
    "\n",
    "# Pattern to search for\n",
    "pattern = 'exercises'\n",
    "\n",
    "# Find occurrences and positions of the pattern using regex\n",
    "occurrences, positions = find_occurrences_and_positions_regex(sample_text, pattern)\n",
    "\n",
    "# Print the result\n",
    "if occurrences:\n",
    "    print(f'The pattern \"{pattern}\" occurs {occurrences} times at positions: {positions}')\n",
    "else:\n",
    "    print(f'The pattern \"{pattern}\" is not found in the text.')\n"
   ]
  },
  {
   "cell_type": "code",
   "execution_count": 70,
   "id": "42869464",
   "metadata": {},
   "outputs": [
    {
     "name": "stdout",
     "output_type": "stream",
     "text": [
      "Original date: 2022-03-06\n",
      "Converted date: 06-03-2022\n"
     ]
    }
   ],
   "source": [
    " #Write a Python program to convert a date of yyyy-mm-dd format to dd-mm-yyyy format\n",
    " \n",
    "import re\n",
    "\n",
    "def convert_date_format(input_date):\n",
    "    # Define the regular expression pattern for yyyy-mm-dd\n",
    "    date_pattern = re.compile(r'(?P<year>\\d{4})-(?P<month>\\d{2})-(?P<day>\\d{2})')\n",
    "\n",
    "    # Match the pattern in the input date\n",
    "    match = date_pattern.match(input_date)\n",
    "\n",
    "    # Check if the date is in the correct format\n",
    "    if match:\n",
    "        # Extract year, month, and day from the groups\n",
    "        year = match.group('year')\n",
    "        month = match.group('month')\n",
    "        day = match.group('day')\n",
    "\n",
    "        # Format the date in dd-mm-yyyy format\n",
    "        formatted_date = f'{day}-{month}-{year}'\n",
    "        return formatted_date\n",
    "    else:\n",
    "        return 'Invalid date format'\n",
    "\n",
    "# Test\n",
    "input_date = '2022-03-06'\n",
    "output_date = convert_date_format(input_date)\n",
    "\n",
    "print(f'Original date: {input_date}')\n",
    "print(f'Converted date: {output_date}')\n",
    "\n",
    "   "
   ]
  },
  {
   "cell_type": "code",
   "execution_count": 72,
   "id": "018dd65b",
   "metadata": {},
   "outputs": [
    {
     "name": "stdout",
     "output_type": "stream",
     "text": [
      "['01.12', '145.8', '3.01', '27.25', '0.25']\n"
     ]
    }
   ],
   "source": [
    "# Create a function in python to find all decimal numbers with a precision of 1 or 2 in a string.\n",
    "#The use of the re.compile() method is mandatory\n",
    "\n",
    "import re\n",
    "\n",
    "def find_decimal_numbers(text):\n",
    "    # Use regex to find decimal numbers with precision of 1 or 2\n",
    "    pattern = re.compile(r'\\b\\d+\\.\\d{1,2}\\b')\n",
    "    matches = pattern.findall(text)\n",
    "    return matches\n",
    "\n",
    "# Sample Text\n",
    "sample_text = \"01.12 0132.123 2.31875 145.8 3.01 27.25 0.25\"\n",
    "\n",
    "# Get the expected output\n",
    "output = find_decimal_numbers(sample_text)\n",
    "\n",
    "# Print the result\n",
    "print(output)\n"
   ]
  },
  {
   "cell_type": "code",
   "execution_count": 1,
   "id": "efe9bcdf",
   "metadata": {},
   "outputs": [
    {
     "name": "stdout",
     "output_type": "stream",
     "text": [
      "Number: 1, Position: 5\n",
      "Number: 2, Position: 6\n",
      "Number: 3, Position: 7\n",
      "Number: 4, Position: 13\n",
      "Number: 5, Position: 14\n",
      "Number: 6, Position: 15\n"
     ]
    }
   ],
   "source": [
    "#Write a Python program to separate and print the numbers and their position of a given string.\n",
    "\n",
    "def extract_numbers_with_positions(input_string):\n",
    "    numbers = []\n",
    "    \n",
    "    # Iterate through each character and its position in the string\n",
    "    for index, char in enumerate(input_string):\n",
    "        # Check if the character is a digit\n",
    "        if char.isdigit():\n",
    "            numbers.append((int(char), index + 1))  # Adding 1 to the index for 1-based position\n",
    "        \n",
    "    return numbers\n",
    "\n",
    "# Sample Text\n",
    "sample_text = \"abc 123 xyz 456 pqr\"\n",
    "\n",
    "# Get the numbers and their positions\n",
    "result = extract_numbers_with_positions(sample_text)\n",
    "\n",
    "# Print the result\n",
    "for number, position in result:\n",
    "    print(f\"Number: {number}, Position: {position}\")\n",
    "\n"
   ]
  },
  {
   "cell_type": "code",
   "execution_count": 3,
   "id": "34809656",
   "metadata": {},
   "outputs": [
    {
     "name": "stdout",
     "output_type": "stream",
     "text": [
      "The maximum numeric value is: 950\n"
     ]
    }
   ],
   "source": [
    "#Write a regular expression in python program to extract maximum/largest numeric value from a string.\n",
    "\n",
    "import re\n",
    "\n",
    "def extract_maximum_numeric_value(input_string):\n",
    "    # Use regular expression to find all numeric values\n",
    "    numeric_values = re.findall(r'\\b\\d+\\b', input_string)\n",
    "\n",
    "    if not numeric_values:\n",
    "        return None  # Return None if no numeric values are found\n",
    "\n",
    "    # Convert numeric values to integers and return the maximum\n",
    "    max_numeric_value = max(map(int, numeric_values))\n",
    "    return max_numeric_value\n",
    "\n",
    "# Sample Text\n",
    "sample_text = 'My marks in each semester are: 947, 896, 926, 524, 734, 950, 642'\n",
    "\n",
    "# Get the maximum numeric value\n",
    "result = extract_maximum_numeric_value(sample_text)\n",
    "\n",
    "# Print the result\n",
    "print(f\"The maximum numeric value is: {result}\")\n"
   ]
  },
  {
   "cell_type": "code",
   "execution_count": 4,
   "id": "5735f386",
   "metadata": {},
   "outputs": [
    {
     "name": "stdout",
     "output_type": "stream",
     "text": [
      "Regular Expression Is An Important Topic In Python\n"
     ]
    }
   ],
   "source": [
    "# Create a function in python to insert spaces between words starting with capital letters.\n",
    "# Sample Text: “RegularExpressionIsAnImportantTopicInPython\"\n",
    "# Expected Output: Regular Expression Is An Important Topic In Python\n",
    "\n",
    "import re\n",
    "\n",
    "def insert_spaces_before_capital(text):\n",
    "    # Use regex to find words starting with capital letters\n",
    "    pattern = re.compile(r'(?<=[a-z])(?=[A-Z])')\n",
    "    spaced_text = pattern.sub(' ', text)\n",
    "    return spaced_text\n",
    "\n",
    "# Sample Text\n",
    "sample_text = \"RegularExpressionIsAnImportantTopicInPython\"\n",
    "\n",
    "# Get the expected output\n",
    "output = insert_spaces_before_capital(sample_text)\n",
    "\n",
    "# Print the result\n",
    "print(output)\n"
   ]
  },
  {
   "cell_type": "code",
   "execution_count": 5,
   "id": "0fa03dc2",
   "metadata": {},
   "outputs": [
    {
     "name": "stdout",
     "output_type": "stream",
     "text": [
      "['This', 'Is', 'Sample', 'Text', 'With', 'Several', 'Sequences', 'Like', 'This', 'One']\n"
     ]
    }
   ],
   "source": [
    "# Python regex to find sequences of one upper case letter followed by lower case letters\n",
    "\n",
    "import re\n",
    "\n",
    "def find_uppercase_sequences(text):\n",
    "    pattern = re.compile(r'([A-Z][a-z]+)')\n",
    "    sequences = pattern.findall(text)\n",
    "    return sequences\n",
    "\n",
    "# Sample Text\n",
    "sample_text = \"This Is a Sample Text With Several Sequences Like This One.\"\n",
    "\n",
    "# Get the expected output\n",
    "output = find_uppercase_sequences(sample_text)\n",
    "\n",
    "# Print the result\n",
    "print(output)\n"
   ]
  },
  {
   "cell_type": "code",
   "execution_count": 6,
   "id": "2ccc0d0b",
   "metadata": {},
   "outputs": [
    {
     "name": "stdout",
     "output_type": "stream",
     "text": [
      "Hello world\n"
     ]
    }
   ],
   "source": [
    "# Write a Python program to remove continuous duplicate words from Sentence using \n",
    "# Regular Expression.\n",
    "# Sample Text: \"Hello hello world world\"\n",
    "# Expected Output: Hello hello world\n",
    "\n",
    "import re\n",
    "\n",
    "def remove_continuous_duplicates(sentence):\n",
    "    # Use regex to find continuous duplicate words\n",
    "    pattern = re.compile(r'\\b(\\w+)(?:\\s+\\1\\b)+', flags=re.IGNORECASE)\n",
    "    result = pattern.sub(r'\\1', sentence)\n",
    "    return result\n",
    "\n",
    "# Sample Text\n",
    "sample_text = \"Hello hello world world\"\n",
    "\n",
    "# Get the expected output\n",
    "output = remove_continuous_duplicates(sample_text)\n",
    "\n",
    "# Print the result\n",
    "print(output)\n",
    "\n"
   ]
  },
  {
   "cell_type": "code",
   "execution_count": 7,
   "id": "6066c8d0",
   "metadata": {},
   "outputs": [
    {
     "name": "stdout",
     "output_type": "stream",
     "text": [
      "True\n"
     ]
    }
   ],
   "source": [
    "# Write a python program using RegEx to accept string ending with alphanumeric character.\n",
    "\n",
    "import re\n",
    "\n",
    "def is_string_ending_with_alphanumeric(input_string):\n",
    "    # Use regex to check if the string ends with an alphanumeric character\n",
    "    pattern = re.compile(r'^.*[a-zA-Z0-9]$')\n",
    "    match = pattern.match(input_string)\n",
    "\n",
    "    # Return True if there is a match, otherwise False\n",
    "    return bool(match)\n",
    "\n",
    "# Test the function\n",
    "test_string = \"Hello123\"\n",
    "result = is_string_ending_with_alphanumeric(test_string)\n",
    "\n",
    "# Print the result\n",
    "print(result)\n"
   ]
  },
  {
   "cell_type": "code",
   "execution_count": 8,
   "id": "a95c8727",
   "metadata": {},
   "outputs": [
    {
     "name": "stdout",
     "output_type": "stream",
     "text": [
      "['#Doltiwal', '#xyzabc', '#Demonetization']\n"
     ]
    }
   ],
   "source": [
    "# -Write a python program using RegEx to extract the hashtags.\n",
    "# Sample Text: \"\"\"RT @kapil_kausik: #Doltiwal I mean #xyzabc is \"hurt\" by #Demonetization as the same \n",
    "# has rendered USELESS <ed><U+00A0><U+00BD><ed><U+00B1><U+0089> \"acquired funds\" No wo\"\"\"\n",
    "# Expected Output: ['#Doltiwal', '#xyzabc', '#Demonetization']\n",
    "\n",
    "import re\n",
    "\n",
    "def extract_hashtags(input_text):\n",
    "    # Use regex to find hashtags in the text\n",
    "    pattern = re.compile(r'#\\w+')\n",
    "    hashtags = pattern.findall(input_text)\n",
    "    return hashtags\n",
    "\n",
    "# Sample Text\n",
    "sample_text = \"\"\"RT @kapil_kausik: #Doltiwal I mean #xyzabc is \"hurt\" by #Demonetization as the same \n",
    "has rendered USELESS <ed><U+00A0><U+00BD><ed><U+00B1><U+0089> \"acquired funds\" No wo\"\"\"\n",
    "\n",
    "# Get the expected output\n",
    "output = extract_hashtags(sample_text)\n",
    "\n",
    "# Print the result\n",
    "print(output)\n",
    "\n"
   ]
  },
  {
   "cell_type": "code",
   "execution_count": 9,
   "id": "ca15df3a",
   "metadata": {},
   "outputs": [
    {
     "name": "stdout",
     "output_type": "stream",
     "text": [
      "@Jags123456 Bharat band on 28??<ed><ed>Those who are protesting #demonetization are all different party leaders\n"
     ]
    }
   ],
   "source": [
    "# Write a python program using RegEx to remove <U+..> like symbols\n",
    "# Check the below sample text, there are strange symbols something of the sort <U+..> all over the place. \n",
    "# You need to come up with a general Regex expression that will cover all such symbols.\n",
    "# Sample Text: \"@Jags123456 Bharat band on \n",
    "# 28??<ed><U+00A0><U+00BD><ed><U+00B8><U+0082>Those who are protesting #demonetization are \n",
    "# all different party leaders\"\n",
    "# Expected Output: @Jags123456 Bharat band on 28??<ed><ed>Those who are protesting \n",
    "#demonetization are all different party leaders\n",
    "\n",
    "import re\n",
    "\n",
    "def remove_unicode_symbols(input_text):\n",
    "    # Use regex to remove <U+..> like symbols\n",
    "    pattern = re.compile(r'<U\\+[0-9A-Fa-f]+>')\n",
    "    clean_text = pattern.sub('', input_text)\n",
    "    return clean_text\n",
    "\n",
    "# Sample Text\n",
    "sample_text = \"@Jags123456 Bharat band on 28??<ed><U+00A0><U+00BD><ed><U+00B8><U+0082>Those who are protesting #demonetization are all different party leaders\"\n",
    "\n",
    "# Get the expected output\n",
    "output = remove_unicode_symbols(sample_text)\n",
    "\n",
    "# Print the result\n",
    "print(output)\n"
   ]
  },
  {
   "cell_type": "code",
   "execution_count": 10,
   "id": "c468494f",
   "metadata": {},
   "outputs": [
    {
     "name": "stdout",
     "output_type": "stream",
     "text": [
      "Extracted Dates: ['12-09-1992', '15-12-1999']\n"
     ]
    }
   ],
   "source": [
    "# Write a python program to extract dates from the text stored in the text file.\n",
    "# Sample Text: Ron was born on 12-09-1992 and he was admitted to school 15-12-1999.\n",
    "# Note- Store this sample text in the file and then extract dates.\n",
    "\n",
    "import re\n",
    "\n",
    "def extract_dates_from_file(file_path):\n",
    "    # Read text from file\n",
    "    with open(file_path, 'r') as file:\n",
    "        text = file.read()\n",
    "\n",
    "    # Use regex to extract dates (assuming the date format is DD-MM-YYYY)\n",
    "    date_pattern = re.compile(r'\\b\\d{2}-\\d{2}-\\d{4}\\b')\n",
    "    dates = date_pattern.findall(text)\n",
    "\n",
    "    return dates\n",
    "\n",
    "# Sample Text\n",
    "sample_text = \"Ron was born on 12-09-1992 and he was admitted to school 15-12-1999.\"\n",
    "\n",
    "# Save sample text to a file\n",
    "file_path = \"sample_text.txt\"\n",
    "with open(file_path, 'w') as file:\n",
    "    file.write(sample_text)\n",
    "\n",
    "# Extract dates from the file\n",
    "extracted_dates = extract_dates_from_file(file_path)\n",
    "\n",
    "# Print the result\n",
    "print(\"Extracted Dates:\", extracted_dates)\n"
   ]
  },
  {
   "cell_type": "code",
   "execution_count": 11,
   "id": "f92e0dea",
   "metadata": {},
   "outputs": [
    {
     "name": "stdout",
     "output_type": "stream",
     "text": [
      " following example creates  ArrayList  a capacity   elements. 4 elements   added   ArrayList   ArrayList  trimmed accordingly.\n"
     ]
    }
   ],
   "source": [
    "# Create a function in python to remove all words from a string of length between 2 and \n",
    "4.\n",
    "# The use of the re.compile() method is mandatory.\n",
    "# Sample Text: \"The following example creates an ArrayList with a capacity of 50 elements. 4 elements are \n",
    "# then added to the ArrayList and the ArrayList is trimmed accordingly.\"\n",
    "# Expected Output: following example creates ArrayList a capacity elements. 4 elements added ArrayList \n",
    "# ArrayList trimmed accordingly.\n",
    "\n",
    "import re\n",
    "\n",
    "def remove_words_of_length_2_to_4(text):\n",
    "    # Use regex to remove words with length between 2 and 4\n",
    "    pattern = re.compile(r'\\b\\w{2,4}\\b')\n",
    "    result = pattern.sub('', text)\n",
    "    return result\n",
    "\n",
    "# Sample Text\n",
    "sample_text = \"The following example creates an ArrayList with a capacity of 50 elements. 4 elements are then added to the ArrayList and the ArrayList is trimmed accordingly.\"\n",
    "\n",
    "# Get the expected output\n",
    "output = remove_words_of_length_2_to_4(sample_text)\n",
    "\n",
    "# Print the result\n",
    "print(output)\n"
   ]
  },
  {
   "cell_type": "code",
   "execution_count": null,
   "id": "39b6b30b",
   "metadata": {},
   "outputs": [],
   "source": []
  }
 ],
 "metadata": {
  "kernelspec": {
   "display_name": "Python 3 (ipykernel)",
   "language": "python",
   "name": "python3"
  },
  "language_info": {
   "codemirror_mode": {
    "name": "ipython",
    "version": 3
   },
   "file_extension": ".py",
   "mimetype": "text/x-python",
   "name": "python",
   "nbconvert_exporter": "python",
   "pygments_lexer": "ipython3",
   "version": "3.11.4"
  }
 },
 "nbformat": 4,
 "nbformat_minor": 5
}
